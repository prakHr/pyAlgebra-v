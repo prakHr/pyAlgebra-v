{
  "nbformat": 4,
  "nbformat_minor": 0,
  "metadata": {
    "colab": {
      "name": "Demo_pyAlgebra.ipynb",
      "provenance": []
    },
    "kernelspec": {
      "name": "python3",
      "display_name": "Python 3"
    },
    "language_info": {
      "name": "python"
    }
  },
  "cells": [
    {
      "cell_type": "code",
      "metadata": {
        "colab": {
          "base_uri": "https://localhost:8080/"
        },
        "id": "c5L6jBrg-M3U",
        "outputId": "e3644f72-a1cd-40ee-a29a-1ee9320b6dbd"
      },
      "source": [
        "!pip install pyAlgebra"
      ],
      "execution_count": 1,
      "outputs": [
        {
          "output_type": "stream",
          "text": [
            "Collecting pyAlgebra\n",
            "  Downloading pyAlgebra-0.1.tar.gz (3.5 kB)\n",
            "Requirement already satisfied: sympy in /usr/local/lib/python3.7/dist-packages (from pyAlgebra) (1.7.1)\n",
            "Requirement already satisfied: matplotlib in /usr/local/lib/python3.7/dist-packages (from pyAlgebra) (3.2.2)\n",
            "Requirement already satisfied: cycler>=0.10 in /usr/local/lib/python3.7/dist-packages (from matplotlib->pyAlgebra) (0.10.0)\n",
            "Requirement already satisfied: kiwisolver>=1.0.1 in /usr/local/lib/python3.7/dist-packages (from matplotlib->pyAlgebra) (1.3.1)\n",
            "Requirement already satisfied: python-dateutil>=2.1 in /usr/local/lib/python3.7/dist-packages (from matplotlib->pyAlgebra) (2.8.1)\n",
            "Requirement already satisfied: numpy>=1.11 in /usr/local/lib/python3.7/dist-packages (from matplotlib->pyAlgebra) (1.19.5)\n",
            "Requirement already satisfied: pyparsing!=2.0.4,!=2.1.2,!=2.1.6,>=2.0.1 in /usr/local/lib/python3.7/dist-packages (from matplotlib->pyAlgebra) (2.4.7)\n",
            "Requirement already satisfied: six in /usr/local/lib/python3.7/dist-packages (from cycler>=0.10->matplotlib->pyAlgebra) (1.15.0)\n",
            "Requirement already satisfied: mpmath>=0.19 in /usr/local/lib/python3.7/dist-packages (from sympy->pyAlgebra) (1.2.1)\n",
            "Building wheels for collected packages: pyAlgebra\n",
            "  Building wheel for pyAlgebra (setup.py) ... \u001b[?25l\u001b[?25hdone\n",
            "  Created wheel for pyAlgebra: filename=pyAlgebra-0.1-py3-none-any.whl size=4107 sha256=0f57eefa428b3649300ea5a52948abb7ea6ee9801da9f35ab6cbcaf13b66a2ef\n",
            "  Stored in directory: /root/.cache/pip/wheels/9d/c8/1c/7faab1ba0814f2ef2d9063a7a0ad50b8f23332e5b771d66933\n",
            "Successfully built pyAlgebra\n",
            "Installing collected packages: pyAlgebra\n",
            "Successfully installed pyAlgebra-0.1\n"
          ],
          "name": "stdout"
        }
      ]
    },
    {
      "cell_type": "code",
      "metadata": {
        "id": "OnA9hZpP-aBl"
      },
      "source": [
        "import matplotlib.pyplot as plt\n",
        "from sympy import sympify\n",
        "from sympy import Poly,Symbol,summation,pprint,solve,Integral,Derivative\n",
        "from sympy import solve_poly_inequality,solve_rational_inequalities,solve_univariate_inequality,sin\n",
        "import pyAlgebra\n",
        "from pyAlgebra import *    "
      ],
      "execution_count": 4,
      "outputs": []
    },
    {
      "cell_type": "code",
      "metadata": {
        "colab": {
          "base_uri": "https://localhost:8080/"
        },
        "id": "9PWIP4co-gNf",
        "outputId": "52b29162-f193-45bc-836b-5d7744a8b50b"
      },
      "source": [
        "expr='-x**2 + 4 < 0'\n",
        "pprint(inequality_solver(expr))"
      ],
      "execution_count": 5,
      "outputs": [
        {
          "output_type": "stream",
          "text": [
            "[(-∞, -2), (2, ∞)]\n"
          ],
          "name": "stdout"
        }
      ]
    },
    {
      "cell_type": "code",
      "metadata": {
        "colab": {
          "base_uri": "https://localhost:8080/"
        },
        "id": "GixClG6W-sEi",
        "outputId": "8523582d-0ab2-4e06-e393-8800a99158ec"
      },
      "source": [
        "expr='((x-1)/(x+2)) > 0'\n",
        "pprint(inequality_solver(expr))"
      ],
      "execution_count": 6,
      "outputs": [
        {
          "output_type": "stream",
          "text": [
            "(-∞, -2) ∪ (1, ∞)\n"
          ],
          "name": "stdout"
        }
      ]
    },
    {
      "cell_type": "code",
      "metadata": {
        "colab": {
          "base_uri": "https://localhost:8080/"
        },
        "id": "UOCLfvB7-sPb",
        "outputId": "91cc7d14-98ae-4707-c61f-6ba836e3e69b"
      },
      "source": [
        "expr='sin(x)-0.6>0'\n",
        "pprint(inequality_solver(expr))"
      ],
      "execution_count": 7,
      "outputs": [
        {
          "output_type": "stream",
          "text": [
            "(0.643501108793284, -0.643501108793284 + π)\n"
          ],
          "name": "stdout"
        }
      ]
    },
    {
      "cell_type": "code",
      "metadata": {
        "colab": {
          "base_uri": "https://localhost:8080/"
        },
        "id": "UY1ZPebz-sSL",
        "outputId": "5b357cd8-ef6e-40ab-f572-410facd660e7"
      },
      "source": [
        "r1,r2=roots(1,1,1)\n",
        "print(r1,r2)"
      ],
      "execution_count": 8,
      "outputs": [
        {
          "output_type": "stream",
          "text": [
            "(-0.49999999999999994+0.8660254037844386j) (-0.5-0.8660254037844386j)\n"
          ],
          "name": "stdout"
        }
      ]
    },
    {
      "cell_type": "code",
      "metadata": {
        "colab": {
          "base_uri": "https://localhost:8080/",
          "height": 295
        },
        "id": "ESrHW0Em-sW4",
        "outputId": "20f7eb65-0907-437b-eae3-4460a9c8c30a"
      },
      "source": [
        "x_values=list(range(-1000,1000))\n",
        "expr='x*x*x*x+5*x*x*x+10*x*x+12*x+1'\n",
        "plot_general_equation(expr,x_values)"
      ],
      "execution_count": 9,
      "outputs": [
        {
          "output_type": "display_data",
          "data": {
            "image/png": "[encoded data removed]",
            "text/plain": [
              "<Figure size 432x288 with 1 Axes>"
            ]
          },
          "metadata": {
            "tags": [],
            "needs_background": "light"
          }
        }
      ]
    },
    {
      "cell_type": "code",
      "metadata": {
        "colab": {
          "base_uri": "https://localhost:8080/"
        },
        "id": "pmpp7a-8-sZ0",
        "outputId": "67beb32b-0779-41a8-8438-a857c68561f6"
      },
      "source": [
        "x=Symbol('x')\n",
        "y=Symbol('y')\n",
        "z=Symbol('z')\n",
        "expr1=2*x+2*y+2*z\n",
        "expr2=4*x+4*y+4*z\n",
        "expr3=3*x+3*y+3*z\n",
        "expressions=(expr1,expr2,expr3)\n",
        "print(solve_n_equations(expressions))\n"
      ],
      "execution_count": 10,
      "outputs": [
        {
          "output_type": "stream",
          "text": [
            "[{x: -y - z}]\n"
          ],
          "name": "stdout"
        }
      ]
    },
    {
      "cell_type": "code",
      "metadata": {
        "colab": {
          "base_uri": "https://localhost:8080/"
        },
        "id": "kv-doczy-78o",
        "outputId": "e0b405d7-df46-4abc-ec0a-f7478812c9d1"
      },
      "source": [
        "expr = 'a*n+d'\n",
        "upto = 10000\n",
        "s=seriesSummation(expr,upto)\n",
        "pprint(s)"
      ],
      "execution_count": 12,
      "outputs": [
        {
          "output_type": "stream",
          "text": [
            "50005000⋅a + 10000⋅d\n"
          ],
          "name": "stdout"
        }
      ]
    },
    {
      "cell_type": "code",
      "metadata": {
        "colab": {
          "base_uri": "https://localhost:8080/"
        },
        "id": "osQihWzq-8Es",
        "outputId": "a8d0726b-94b5-4640-d488-e75a14f95a24"
      },
      "source": [
        "St='5*u*t**2+2*t+8'\n",
        "Stt=find_derivative(St,'t')\n",
        "pprint(Stt)\n",
        "Sttt=find_derivative(Stt,'t')\n",
        "pprint(Sttt)"
      ],
      "execution_count": 13,
      "outputs": [
        {
          "output_type": "stream",
          "text": [
            "10⋅t⋅u + 2\n",
            "10⋅u\n"
          ],
          "name": "stdout"
        }
      ]
    },
    {
      "cell_type": "code",
      "metadata": {
        "colab": {
          "base_uri": "https://localhost:8080/"
        },
        "id": "K8-NKhlg_ksc",
        "outputId": "26e790ba-2f02-4306-9f6b-6e9ab21fcb54"
      },
      "source": [
        "St='5*u*t**2+2*t+8'\n",
        "Stt=find_indefinite_integral(St,'t')\n",
        "pprint(Stt)\n",
        "Sttt=find_indefinite_integral(Stt,'t')\n",
        "pprint(Sttt)\n",
        "    "
      ],
      "execution_count": 15,
      "outputs": [
        {
          "output_type": "stream",
          "text": [
            "   3             \n",
            "5⋅t ⋅u    2      \n",
            "────── + t  + 8⋅t\n",
            "  3              \n",
            "   4      3       \n",
            "5⋅t ⋅u   t       2\n",
            "────── + ── + 4⋅t \n",
            "  12     3        \n"
          ],
          "name": "stdout"
        }
      ]
    },
    {
      "cell_type": "code",
      "metadata": {
        "colab": {
          "base_uri": "https://localhost:8080/"
        },
        "id": "Rm0hVI0v-8H9",
        "outputId": "bde93880-c61d-4ee0-e734-298570f0a36c"
      },
      "source": [
        "St='5*u*t**2+2*t+8'\n",
        "Stt=find_definite_integral(St,'t',0,10)\n",
        "pprint(Stt)\n",
        "Sttt=find_definite_integral(Stt,'u',0,1000)\n",
        "pprint(Sttt)\n",
        "    "
      ],
      "execution_count": 14,
      "outputs": [
        {
          "output_type": "stream",
          "text": [
            "5000⋅u      \n",
            "────── + 180\n",
            "  3         \n",
            "2500540000/3\n"
          ],
          "name": "stdout"
        }
      ]
    },
    {
      "cell_type": "code",
      "metadata": {
        "colab": {
          "base_uri": "https://localhost:8080/"
        },
        "id": "OUQqz8ow_eMW",
        "outputId": "fb1445d2-40a9-4df3-bd35-a067bad86945"
      },
      "source": [
        "p=find_length(expr='x',variable='x',lower_limit=-5,upper_limit=10)\n",
        "print(p)\n",
        "    "
      ],
      "execution_count": 16,
      "outputs": [
        {
          "output_type": "stream",
          "text": [
            "21.2132034355964\n"
          ],
          "name": "stdout"
        }
      ]
    }
  ]
}